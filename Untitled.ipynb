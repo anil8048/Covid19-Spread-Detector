{
 "cells": [
  {
   "cell_type": "code",
   "execution_count": 4,
   "metadata": {},
   "outputs": [],
   "source": [
    "# from flask import app"
   ]
  },
  {
   "cell_type": "code",
   "execution_count": 2,
   "metadata": {},
   "outputs": [],
   "source": [
    "import requests\n",
    "import pprint"
   ]
  },
  {
   "cell_type": "code",
   "execution_count": 142,
   "metadata": {},
   "outputs": [],
   "source": [
    "# dir(requests)"
   ]
  },
  {
   "cell_type": "code",
   "execution_count": 22,
   "metadata": {},
   "outputs": [],
   "source": [
    "api_data = requests.get('https://api.covid19india.org/state_district_wise.json')"
   ]
  },
  {
   "cell_type": "code",
   "execution_count": 23,
   "metadata": {},
   "outputs": [],
   "source": [
    "data=api_data.json()"
   ]
  },
  {
   "cell_type": "code",
   "execution_count": 25,
   "metadata": {},
   "outputs": [],
   "source": [
    "# dir(data)"
   ]
  },
  {
   "cell_type": "code",
   "execution_count": 26,
   "metadata": {},
   "outputs": [
    {
     "data": {
      "text/plain": [
       "dict_keys(['State Unassigned', 'Andaman and Nicobar Islands', 'Andhra Pradesh', 'Arunachal Pradesh', 'Assam', 'Bihar', 'Chandigarh', 'Chhattisgarh', 'Delhi', 'Dadra and Nagar Haveli and Daman and Diu', 'Goa', 'Gujarat', 'Himachal Pradesh', 'Haryana', 'Jharkhand', 'Jammu and Kashmir', 'Karnataka', 'Kerala', 'Ladakh', 'Lakshadweep', 'Maharashtra', 'Meghalaya', 'Manipur', 'Madhya Pradesh', 'Mizoram', 'Nagaland', 'Odisha', 'Punjab', 'Puducherry', 'Rajasthan', 'Sikkim', 'Telangana', 'Tamil Nadu', 'Tripura', 'Uttar Pradesh', 'Uttarakhand', 'West Bengal'])"
      ]
     },
     "execution_count": 26,
     "metadata": {},
     "output_type": "execute_result"
    }
   ],
   "source": [
    "data.keys()"
   ]
  },
  {
   "cell_type": "code",
   "execution_count": 27,
   "metadata": {},
   "outputs": [],
   "source": [
    "# data.values()"
   ]
  },
  {
   "cell_type": "code",
   "execution_count": 143,
   "metadata": {},
   "outputs": [],
   "source": [
    "# data['Assam']"
   ]
  },
  {
   "cell_type": "code",
   "execution_count": 33,
   "metadata": {},
   "outputs": [
    {
     "data": {
      "text/plain": [
       "{'notes': '',\n",
       " 'active': 496,\n",
       " 'confirmed': 1723,\n",
       " 'deceased': 12,\n",
       " 'recovered': 1215,\n",
       " 'delta': {'confirmed': 0, 'deceased': 0, 'recovered': 0}}"
      ]
     },
     "execution_count": 33,
     "metadata": {},
     "output_type": "execute_result"
    }
   ],
   "source": [
    "data['Assam']['districtData'][ 'Dhubri']"
   ]
  },
  {
   "cell_type": "code",
   "execution_count": 35,
   "metadata": {},
   "outputs": [],
   "source": [
    "api2=requests.get('https://www.covid19india.org/')"
   ]
  },
  {
   "cell_type": "code",
   "execution_count": 36,
   "metadata": {},
   "outputs": [
    {
     "data": {
      "text/plain": [
       "<Response [200]>"
      ]
     },
     "execution_count": 36,
     "metadata": {},
     "output_type": "execute_result"
    }
   ],
   "source": [
    "api2"
   ]
  },
  {
   "cell_type": "code",
   "execution_count": null,
   "metadata": {},
   "outputs": [],
   "source": []
  },
  {
   "cell_type": "code",
   "execution_count": 54,
   "metadata": {},
   "outputs": [],
   "source": [
    "res=requests.get('https://www.worldometers.info/coronavirus/#countries')"
   ]
  },
  {
   "cell_type": "code",
   "execution_count": 55,
   "metadata": {},
   "outputs": [
    {
     "data": {
      "text/plain": [
       "200"
      ]
     },
     "execution_count": 55,
     "metadata": {},
     "output_type": "execute_result"
    }
   ],
   "source": [
    "res.status_code"
   ]
  },
  {
   "cell_type": "code",
   "execution_count": 56,
   "metadata": {},
   "outputs": [],
   "source": [
    "\n",
    "import requests\n",
    "\n",
    "from bs4 import BeautifulSoup\n",
    "\n",
    "import pprint"
   ]
  },
  {
   "cell_type": "code",
   "execution_count": 57,
   "metadata": {},
   "outputs": [],
   "source": [
    "\n",
    "soup=BeautifulSoup(res.text,'html.parser')"
   ]
  },
  {
   "cell_type": "code",
   "execution_count": 79,
   "metadata": {},
   "outputs": [],
   "source": [
    "# soup.body.contents"
   ]
  },
  {
   "cell_type": "code",
   "execution_count": 80,
   "metadata": {},
   "outputs": [],
   "source": [
    "# dir(soup)"
   ]
  },
  {
   "cell_type": "code",
   "execution_count": 81,
   "metadata": {},
   "outputs": [],
   "source": [
    "table=soup.find('table')"
   ]
  },
  {
   "cell_type": "code",
   "execution_count": 144,
   "metadata": {},
   "outputs": [],
   "source": [
    "# table"
   ]
  },
  {
   "cell_type": "code",
   "execution_count": 62,
   "metadata": {},
   "outputs": [],
   "source": [
    "# table=soup.find(\"table\",attrs={\"class\":\"table table-bordered table-hover main_table_countries dataTable no-footer\"})"
   ]
  },
  {
   "cell_type": "code",
   "execution_count": 133,
   "metadata": {},
   "outputs": [
    {
     "name": "stdout",
     "output_type": "stream",
     "text": [
      "18\n"
     ]
    }
   ],
   "source": [
    "headings=[]\n",
    "for title in table.find_all(\"th\"):\n",
    "    headings.append(title.text.replace('\\n',' ').strip())\n",
    "headings=headings[1:]\n",
    "print(len(headings))"
   ]
  },
  {
   "cell_type": "code",
   "execution_count": 132,
   "metadata": {},
   "outputs": [
    {
     "name": "stdout",
     "output_type": "stream",
     "text": [
      "['Country,Other', 'TotalCases', 'NewCases', 'TotalDeaths', 'NewDeaths', 'TotalRecovered', 'NewRecovered', 'ActiveCases', 'Serious,Critical', 'Tot\\xa0Cases/1M pop', 'Deaths/1M pop', 'TotalTests', 'Tests/ 1M pop', 'Population', 'Continent', '1 Caseevery X ppl', '1 Deathevery X ppl', '1 Testevery X ppl']\n"
     ]
    }
   ],
   "source": [
    "print(headings)"
   ]
  },
  {
   "cell_type": "code",
   "execution_count": 115,
   "metadata": {},
   "outputs": [],
   "source": [
    "covid_data=table.tbody.find_all('tr')"
   ]
  },
  {
   "cell_type": "code",
   "execution_count": 118,
   "metadata": {},
   "outputs": [],
   "source": [
    "# covid_data"
   ]
  },
  {
   "cell_type": "code",
   "execution_count": 141,
   "metadata": {},
   "outputs": [],
   "source": [
    "\n",
    "# for td in covid_data.find_all('td'):\n",
    "#     print(td)\n",
    "#     headings.append(td.b.text.replace('\\n',' ').strip())\n",
    "    "
   ]
  },
  {
   "cell_type": "code",
   "execution_count": 140,
   "metadata": {},
   "outputs": [
    {
     "data": {
      "text/plain": [
       "<td style=\"text-align:left;\">\n",
       "<nobr>North America</nobr>\n",
       "</td>"
      ]
     },
     "execution_count": 140,
     "metadata": {},
     "output_type": "execute_result"
    }
   ],
   "source": [
    "covid_data[0].find_all('td')[1] "
   ]
  },
  {
   "cell_type": "code",
   "execution_count": 2,
   "metadata": {},
   "outputs": [],
   "source": [
    "import requests\n",
    "from bs4 import BeautifulSoup\n",
    "import pprint\n",
    "\n",
    "\n",
    "url='https://www.mygov.in/covid-19/'\n",
    "res=requests.get(url)\n",
    "\n",
    "\n",
    "\n",
    "# print(res.json)\n",
    "\n",
    "soup=BeautifulSoup(res.text,'html.parser')\n"
   ]
  },
  {
   "cell_type": "code",
   "execution_count": 23,
   "metadata": {},
   "outputs": [
    {
     "data": {
      "text/plain": [
       "[]"
      ]
     },
     "execution_count": 23,
     "metadata": {},
     "output_type": "execute_result"
    }
   ],
   "source": [
    "soup.find_all('table')"
   ]
  },
  {
   "cell_type": "code",
   "execution_count": 19,
   "metadata": {},
   "outputs": [
    {
     "name": "stdout",
     "output_type": "stream",
     "text": [
      "[<div class=\"ind-mp_wrap\" id=\"_indiatable\"></div>]\n"
     ]
    }
   ],
   "source": [
    "# dir(soup)\n",
    "print(soup.find_all(id=\"_indiatable\"))"
   ]
  },
  {
   "cell_type": "code",
   "execution_count": 21,
   "metadata": {},
   "outputs": [
    {
     "name": "stdout",
     "output_type": "stream",
     "text": [
      "<title>#IndiaFightsCorona COVID-19 in India, Corona Virus Tracker | mygov.in </title>\n"
     ]
    }
   ],
   "source": [
    "print(soup.title)"
   ]
  },
  {
   "cell_type": "code",
   "execution_count": 22,
   "metadata": {},
   "outputs": [
    {
     "data": {
      "text/plain": [
       "<head>\n",
       "<link href=\"/manifest.json\" rel=\"manifest\"/>\n",
       "<meta content=\"app-id=1423088445\" name=\"apple-itunes-app\"/>\n",
       "<!--[if IE]><![endif]-->\n",
       "<!--[if IE]><meta http-equiv=\"X-UA-Compatible\" content=\"IE=edge,chrome=1\" />\n",
       "<![endif]--><meta content=\"text/html; charset=utf-8\" http-equiv=\"Content-Type\">\n",
       "<meta content=\"Government, COVID-19 in India, Covid-19 News, Covid Outbreak, Covid-19 Tracker, All States Notifications, Coronavirus disease (COVID-19) , Overview, Symptoms, Prevention, Treatments\" name=\"keywords\"/>\n",
       "<link href=\"https://www.mygov.in/sites/all/themes/mygov/favicon.ico\" rel=\"shortcut icon\" type=\"image/vnd.microsoft.icon\">\n",
       "<meta content=\"Government of India is taking all necessary steps to ensure that we are prepared well to face the challenge and threat posed by the growing pandemic of COVID-19 the Corona Virus. Learn about Symptoms, Prevention, Travel Advisory and common FAQs on CoronaVirus.\" name=\"description\"/>\n",
       "<meta content=\"MyGov\" name=\"generator\"/>\n",
       "<link href=\"https://mygov.in/covid-19/\" rel=\"canonical\"/>\n",
       "<link href=\"https://mygov.in/node/285581/\" rel=\"shortlink\"/>\n",
       "<meta content=\"MyGov.in\" property=\"og:site_name\"/>\n",
       "<meta content=\"article\" property=\"og:type\"/>\n",
       "<meta content=\"#IndiaFightsCorona COVID-19\" property=\"og:title\"/>\n",
       "<meta content=\"https://mygov.in/covid-19/\" property=\"og:url\"/>\n",
       "<meta content=\"2020-04-03T13:08:09+05:30\" property=\"og:updated_time\"/>\n",
       "<meta content=\"image/jpeg\" property=\"og:image:type\"/>\n",
       "<meta content=\"summary_large_image\" name=\"twitter:card\"/>\n",
       "<meta content=\"@MyGovIndia\" name=\"twitter:site\"/>\n",
       "<meta content=\"@MyGovIndia\" name=\"twitter:site:id\"/>\n",
       "<meta content=\"@MyGovIndia\" name=\"twitter:creator\"/>\n",
       "<meta content=\"#IndiaFightsCorona COVID-19\" name=\"twitter:title\"/>\n",
       "<meta content=\"https://mygov.in/covid-19/\" name=\"twitter:url\"/>\n",
       "<meta content=\"2020-03-16T16:10:00+05:30\" property=\"article:published_time\"/>\n",
       "<meta content=\"2020-04-03T13:08:09+05:30\" property=\"article:modified_time\"/>\n",
       "<meta content=\"IE=edge\" http-equiv=\"X-UA-Compatible\"/>\n",
       "<meta content=\"width\" name=\"MobileOptimized\">\n",
       "<meta content=\"true\" name=\"HandheldFriendly\"/>\n",
       "<meta content=\"width=device-width, initial-scale=1.0\" name=\"viewport\"/>\n",
       "<title>#IndiaFightsCorona COVID-19 in India, Corona Virus Tracker | mygov.in </title>\n",
       "<link href=\"https://mygov.in/covid-19\" hreflang=\"x-default\" rel=\"alternate\"/>\n",
       "<link href=\"https://mygov.in/covid-19\" hreflang=\"en-in\" rel=\"alternate\"/>\n",
       "<link href=\"https://mygov.in/hi/covid-19\" hreflang=\"hi-in\" rel=\"alternate\"/>\n",
       "<link href=\"https://mygov.in/covid-19/bn\" hreflang=\"bn-in\" rel=\"alternate\"/>\n",
       "<link href=\"https://mygov.in/covid-19/od\" hreflang=\"od-in\" rel=\"alternate\"/>\n",
       "<link href=\"https://mygov.in/covid-19/mr\" hreflang=\"mr-in\" rel=\"alternate\"/>\n",
       "<link href=\"https://mygov.in/covid-19/gu\" hreflang=\"gu-in\" rel=\"alternate\"/>\n",
       "<link href=\"https://mygov.in/covid-19/pa\" hreflang=\"pa-in\" rel=\"alternate\"/>\n",
       "<link href=\"https://mygov.in/covid-19/kn\" hreflang=\"kn-in\" rel=\"alternate\"/>\n",
       "<link href=\"https://mygov.in/covid-19/ml\" hreflang=\"ml-in\" rel=\"alternate\"/>\n",
       "<link href=\"https://mygov.in/covid-19/as\" hreflang=\"as-in\" rel=\"alternate\"/>\n",
       "<link href=\"https://mygov.in/covid-19/ta\" hreflang=\"ta-in\" rel=\"alternate\"/>\n",
       "<link href=\"https://mygov.in/covid-19/te\" hreflang=\"te-in\" rel=\"alternate\"/>\n",
       "<!--[if lte IE 9]>\n",
       "\t<script src=\"/sites/all/themes/mygov/css/ie9-and-lower.css\"></script>\n",
       "  <![endif]-->\n",
       "<style media=\"all\" type=\"text/css\">\n",
       "@import url(\"//www.mygov.in/modules/system/system.base.css?qmcdj0\");\n",
       "@import url(\"//www.mygov.in/modules/system/system.menus.css?qmcdj0\");\n",
       "@import url(\"//www.mygov.in/modules/system/system.messages.css?qmcdj0\");\n",
       "@import url(\"//www.mygov.in/modules/system/system.theme.css?qmcdj0\");\n",
       "</style>\n",
       "<style media=\"all\" type=\"text/css\">\n",
       "@import url(\"//www.mygov.in/profiles/panopoly/modules/contrib/jquery_update/replace/ui/themes/base/minified/jquery.ui.core.min.css?qmcdj0\");\n",
       "@import url(\"//www.mygov.in/profiles/panopoly/modules/panopoly/panopoly_core/css/panopoly-jquery-ui-theme.css?qmcdj0\");\n",
       "@import url(\"//www.mygov.in/profiles/panopoly/modules/contrib/jquery_update/replace/ui/themes/base/minified/jquery.ui.accordion.min.css?qmcdj0\");\n",
       "</style>\n",
       "<style media=\"all\" type=\"text/css\">\n",
       "@import url(\"//www.mygov.in/sites/all/modules/contrib/ldap/ldap_user/ldap_user.css?qmcdj0\");\n",
       "@import url(\"//www.mygov.in/sites/all/modules/custom/activities_logs/activities_logs.css?qmcdj0\");\n",
       "@import url(\"//www.mygov.in/modules/comment/comment.css?qmcdj0\");\n",
       "@import url(\"//www.mygov.in/profiles/panopoly/modules/contrib/date/date_api/date.css?qmcdj0\");\n",
       "@import url(\"//www.mygov.in/profiles/panopoly/modules/contrib/date/date_popup/themes/datepicker.1.7.css?qmcdj0\");\n",
       "@import url(\"//www.mygov.in/modules/field/theme/field.css?qmcdj0\");\n",
       "@import url(\"//www.mygov.in/sites/all/modules/contrib/field_hidden/field_hidden.css?qmcdj0\");\n",
       "@import url(\"//www.mygov.in/modules/node/node.css?qmcdj0\");\n",
       "@import url(\"//www.mygov.in/profiles/panopoly/modules/panopoly/panopoly_admin/panopoly-admin.css?qmcdj0\");\n",
       "@import url(\"//www.mygov.in/profiles/panopoly/modules/panopoly/panopoly_core/css/panopoly-fonts.css?qmcdj0\");\n",
       "@import url(\"//www.mygov.in/profiles/panopoly/modules/panopoly/panopoly_core/css/panopoly-dropbutton.css?qmcdj0\");\n",
       "@import url(\"//www.mygov.in/profiles/panopoly/modules/panopoly/panopoly_magic/css/panopoly-magic.css?qmcdj0\");\n",
       "@import url(\"//www.mygov.in/profiles/panopoly/modules/panopoly/panopoly_magic/css/panopoly-modal.css?qmcdj0\");\n",
       "@import url(\"//www.mygov.in/profiles/panopoly/modules/panopoly/panopoly_theme/css/panopoly-featured.css?qmcdj0\");\n",
       "@import url(\"//www.mygov.in/profiles/panopoly/modules/panopoly/panopoly_theme/css/panopoly-accordian.css?qmcdj0\");\n",
       "@import url(\"//www.mygov.in/profiles/panopoly/modules/panopoly/panopoly_widgets/panopoly-widgets.css?qmcdj0\");\n",
       "@import url(\"//www.mygov.in/profiles/panopoly/modules/panopoly/panopoly_wysiwyg/panopoly-wysiwyg.css?qmcdj0\");\n",
       "@import url(\"//www.mygov.in/modules/poll/poll.css?qmcdj0\");\n",
       "@import url(\"//www.mygov.in/modules/user/user.css?qmcdj0\");\n",
       "@import url(\"//www.mygov.in/sites/all/modules/contrib/extlink/extlink.css?qmcdj0\");\n",
       "@import url(\"//www.mygov.in/profiles/panopoly/modules/contrib/views/css/views.css?qmcdj0\");\n",
       "@import url(\"//www.mygov.in/profiles/panopoly/modules/contrib/caption_filter/caption-filter.css?qmcdj0\");\n",
       "</style>\n",
       "<style media=\"all\" type=\"text/css\">\n",
       "@import url(\"//www.mygov.in/profiles/panopoly/modules/contrib/ctools/css/ctools.css?qmcdj0\");\n",
       "@import url(\"//www.mygov.in/sites/all/modules/contrib/ldap/ldap_servers/ldap_servers.admin.css?qmcdj0\");\n",
       "@import url(\"//www.mygov.in/sites/all/modules/contrib/lightbox2/css/lightbox.css?qmcdj0\");\n",
       "@import url(\"//www.mygov.in/sites/all/modules/contrib/likedislike/templates/likedislike.css?qmcdj0\");\n",
       "@import url(\"//www.mygov.in/sites/all/modules/contrib/messageclose/css/messageclose.css?qmcdj0\");\n",
       "@import url(\"//www.mygov.in/profiles/panopoly/modules/contrib/panels/css/panels.css?qmcdj0\");\n",
       "@import url(\"//www.mygov.in/sites/all/modules/custom/common_utils/css/dark.css?qmcdj0\");\n",
       "@import url(\"//www.mygov.in/sites/all/modules/custom/web_push_notification/css/push.css?qmcdj0\");\n",
       "@import url(\"//www.mygov.in/modules/locale/locale.css?qmcdj0\");\n",
       "@import url(\"//www.mygov.in/sites/all/modules/contrib/text_resize/text_resize.css?qmcdj0\");\n",
       "@import url(\"//www.mygov.in/sites/all/themes/mygov/front_assets/css/jquery.jConveyorTicker.css?qmcdj0\");\n",
       "@import url(\"//www.mygov.in/sites/all/themes/mygov/css/jquery.dataTables.min.css?qmcdj0\");\n",
       "@import url(\"//www.mygov.in/sites/all/themes/mygov/css/fixedHeader.dataTables.min.css?qmcdj0\");\n",
       "</style>\n",
       "<style media=\"all\" type=\"text/css\">\n",
       "@import url(\"//www.mygov.in/sites/all/themes/mygov/css/style.css?qmcdj0\");\n",
       "@import url(\"//www.mygov.in/sites/all/themes/mygov/css/front_style.css?qmcdj0\");\n",
       "@import url(\"//www.mygov.in/sites/all/themes/mygov/css/style_responsive.css?qmcdj0\");\n",
       "@import url(\"//www.mygov.in/sites/all/themes/mygov/css/skeleton.css?qmcdj0\");\n",
       "@import url(\"//www.mygov.in/sites/all/themes/mygov/css/jquery.mCustomScrollbar.min.css?qmcdj0\");\n",
       "</style>\n",
       "<!--[if lte IE 8]>\n",
       "<link type=\"text/css\" rel=\"stylesheet\" href=\"//www.mygov.in/profiles/panopoly/modules/panopoly/panopoly_core/css/panopoly-fonts-ie-open-sans.css?qmcdj0\" media=\"all\" />\n",
       "<![endif]-->\n",
       "<!--[if lte IE 8]>\n",
       "<link type=\"text/css\" rel=\"stylesheet\" href=\"//www.mygov.in/profiles/panopoly/modules/panopoly/panopoly_core/css/panopoly-fonts-ie-open-sans-bold.css?qmcdj0\" media=\"all\" />\n",
       "<![endif]-->\n",
       "<!--[if lte IE 8]>\n",
       "<link type=\"text/css\" rel=\"stylesheet\" href=\"//www.mygov.in/profiles/panopoly/modules/panopoly/panopoly_core/css/panopoly-fonts-ie-open-sans-italic.css?qmcdj0\" media=\"all\" />\n",
       "<![endif]-->\n",
       "<!--[if lte IE 8]>\n",
       "<link type=\"text/css\" rel=\"stylesheet\" href=\"//www.mygov.in/profiles/panopoly/modules/panopoly/panopoly_core/css/panopoly-fonts-ie-open-sans-bold-italic.css?qmcdj0\" media=\"all\" />\n",
       "<![endif]-->\n",
       "<style media=\"all\" type=\"text/css\">\n",
       "@import url(\"//www.mygov.in/profiles/panopoly/modules/panopoly/panopoly_images/panopoly-images.css?qmcdj0\");\n",
       "</style>\n",
       "<noscript>\n",
       "<style type=\"text/css\">\n",
       "\t\t.noscriptmsg{background:#2e4b90;color:#fff;}\n",
       "\t\t.noscriptmsg{text-align:center;}\n",
       "        .head_right{display:none;}\n",
       "\t\t.overview-video{display:none;}\n",
       "\t\t.header-nav{display:block !important;float:right;background:#2e4b90;}\n",
       "\t\t</style>\n",
       "</noscript>\n",
       "<!--[if (gte IE 6)&(lte IE 8)]>\n",
       "    <script src=\"/sites/all/themes/mygov/js/selectivizr-min.js\"></script>\n",
       "  <![endif]-->\n",
       "<!--[if lt IE 9]>\n",
       "    <script src=\"/sites/all/themes/mygov/js/html5-respond.js\"></script>\n",
       "  <![endif]-->\n",
       "<link href=\"https://www.mygov.in//sites/all/themes/mygov/css/print.css\" media=\"print\" rel=\"stylesheet\" type=\"text/css\"/>\n",
       "</meta></link></meta></head>"
      ]
     },
     "execution_count": 22,
     "metadata": {},
     "output_type": "execute_result"
    }
   ],
   "source": [
    "soup.head"
   ]
  },
  {
   "cell_type": "code",
   "execution_count": 10,
   "metadata": {},
   "outputs": [
    {
     "data": {
      "text/plain": [
       "<a href=\"http://india.gov.in\" rel=\"noopener noreferrer\" target=\"_blank\" title=\"GOVERNMENT OF INDIA\">GOVERNMENT OF INDIA</a>"
      ]
     },
     "execution_count": 10,
     "metadata": {},
     "output_type": "execute_result"
    }
   ],
   "source": [
    "soup.a"
   ]
  },
  {
   "cell_type": "code",
   "execution_count": null,
   "metadata": {},
   "outputs": [],
   "source": []
  }
 ],
 "metadata": {
  "kernelspec": {
   "display_name": "Python 3",
   "language": "python",
   "name": "python3"
  },
  "language_info": {
   "codemirror_mode": {
    "name": "ipython",
    "version": 3
   },
   "file_extension": ".py",
   "mimetype": "text/x-python",
   "name": "python",
   "nbconvert_exporter": "python",
   "pygments_lexer": "ipython3",
   "version": "3.7.7"
  }
 },
 "nbformat": 4,
 "nbformat_minor": 4
}
